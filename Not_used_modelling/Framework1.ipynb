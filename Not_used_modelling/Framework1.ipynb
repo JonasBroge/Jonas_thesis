{
 "cells": [
  {
   "attachments": {},
   "cell_type": "markdown",
   "metadata": {},
   "source": [
    "# Importing Packages"
   ]
  },
  {
   "cell_type": "code",
   "execution_count": 73,
   "metadata": {},
   "outputs": [],
   "source": [
    "using JuMP\n",
    "using GLPK"
   ]
  },
  {
   "cell_type": "code",
   "execution_count": null,
   "metadata": {},
   "outputs": [],
   "source": []
  },
  {
   "attachments": {},
   "cell_type": "markdown",
   "metadata": {},
   "source": []
  },
  {
   "attachments": {},
   "cell_type": "markdown",
   "metadata": {},
   "source": [
    "### Storage System Constraints\n",
    "\n",
    "Constraints:                                     Shadow Variables:\n",
    "\n",
    "0 <= e[t]     (for all T in T)                 : (v_low[t])\n",
    "e[t] <= maxS  (for all T in T)                 : v_up[t]\n",
    "e[t] = e[t-1]+b[t] (for all t in T \\ {1})      : (rho[t])\n",
    "e[1] = E_init + b[1]                           : (rho[1])\n",
    "e[T] = E_end                                   : (xi)\n",
    "\n",
    "Stuff that can be left out based on Frolke chapter 5:\n",
    "no networks constraints, therefore we can simply model as a single energy storage system\n",
    "Discharging and charging losses aren't modelled, therefore a single variable suffices (b, which is positive when charging, negative discharging)"
   ]
  },
  {
   "cell_type": "code",
   "execution_count": null,
   "metadata": {},
   "outputs": [],
   "source": []
  },
  {
   "attachments": {},
   "cell_type": "markdown",
   "metadata": {},
   "source": [
    "## FIRST DRAFT OF SPLIT-HORIZON MARKET CLEARING MODEL"
   ]
  },
  {
   "attachments": {},
   "cell_type": "markdown",
   "metadata": {},
   "source": [
    "### Load Packages"
   ]
  },
  {
   "cell_type": "code",
   "execution_count": 74,
   "metadata": {},
   "outputs": [],
   "source": [
    "#import Pkg; Pkg.add(\"CSV\")\n",
    "#import Pkg; Pkg.add(\"DataFrames\")\n",
    "#cd(\"C:\\\\Users\\\\jonas\\\\Documents\\\\Jonas DTU\\\\MSc Thesis\\\\Modelling\")\n",
    "\n",
    "using JuMP\n",
    "using HiGHS\n",
    "using CSV\n",
    "using DataFrames"
   ]
  },
  {
   "cell_type": "code",
   "execution_count": null,
   "metadata": {},
   "outputs": [],
   "source": []
  },
  {
   "attachments": {},
   "cell_type": "markdown",
   "metadata": {},
   "source": [
    "### Load data from excel files and transform into matrix form\n"
   ]
  },
  {
   "cell_type": "code",
   "execution_count": 75,
   "metadata": {},
   "outputs": [],
   "source": [
    "gen_df = CSV.read(\"data_gen.csv\", DataFrame)\n",
    "load_df = CSV.read(\"data_load.csv\", DataFrame)\n",
    "\n",
    "#Creating Maximum Generation matrix\n",
    "P =  Array{Float64}(undef, maximum(gen_df.gen), maximum(gen_df.time))\n",
    "C =  Array{Float64}(undef, maximum(gen_df.gen), maximum(gen_df.time))\n",
    "for i in 1:nrow(gen_df)\n",
    "    P[gen_df.gen[i],gen_df.time[i]] = gen_df.max[i]\n",
    "    C[gen_df.gen[i],gen_df.time[i]] = gen_df.cost[i]\n",
    "end\n",
    "# Now we can acces parameters of generators as: max output = P[g,t],   Cost = C[g,t]\n",
    "\n",
    "#Creating Maximum Consumption matrix\n",
    "D = Array{Float64}(undef, maximum(load_df.load), maximum(load_df.time))\n",
    "U = Array{Float64}(undef, maximum(load_df.load), maximum(load_df.time))\n",
    "for i in 1:nrow(load_df)\n",
    "    D[load_df.load[i],load_df.time[i]] = load_df.max[i]\n",
    "    U[load_df.load[i],load_df.time[i]] = load_df.utility[i]\n",
    "end\n",
    "# Now we can acces parameters of loads as: max consumption = D[g,t],   Utility = U[g,t]\n",
    "\n",
    "\n"
   ]
  },
  {
   "cell_type": "code",
   "execution_count": null,
   "metadata": {},
   "outputs": [],
   "source": []
  },
  {
   "attachments": {},
   "cell_type": "markdown",
   "metadata": {},
   "source": [
    "## The Full Horizon Problem"
   ]
  },
  {
   "cell_type": "code",
   "execution_count": 77,
   "metadata": {},
   "outputs": [
    {
     "name": "stdout",
     "output_type": "stream",
     "text": [
      "Termination status: OPTIMAL\n",
      "Optimal objective value: 27.0\n",
      "Solution:\n",
      "The Market price in t=1 is λ=-5.0\n",
      "Storage level at end of t=1 is e=1.0\n",
      "The Market price in t=2 is λ=-5.0\n",
      "Storage level at end of t=2 is e=0.0\n"
     ]
    }
   ],
   "source": [
    "#Number of days\n",
    "days = 2\n",
    "#Hours per day\n",
    "hours = 1\n",
    "#Total time\n",
    "time = days*hours\n",
    "\n",
    "# Sets\n",
    "T = 1:size(D)[2]\n",
    "L = 1:size(D)[1]\n",
    "G = 1:size(P)[1]\n",
    "\n",
    "# Storage Parameters\n",
    "S = 2.5; \n",
    "E_init = 0;\n",
    "\n",
    "#Model 😺\n",
    "model = Model(HiGHS.Optimizer)\n",
    "set_silent(model)\n",
    "\n",
    "### Variables\n",
    "## Variables Market Clearing\n",
    "@variable(model, b[T] )            # Energy Charged or discharged for t\n",
    "@variable(model, d[L, T] >= 0)   # Demand of load l at t\n",
    "@variable(model, p[G, T] >= 0)   # Production of g at t\n",
    "@variable(model, e[T] >= 0)        # State of Energy at the end of T\n",
    "\n",
    "### Constraints \n",
    "## Storage Constraints (1a-1d)\n",
    "@constraint(model, Stor1[t in T],   0 <= e[t] <= S)          #1a (v_low[t] , v_up[t])\n",
    "@constraint(model, Stor2[t in T;t!=1],   e[t] == e[t-1]+b[t])     #1b (rho[t])\n",
    "@constraint(model, Stor3, e[1] == E_init+b[1])                 #1c (rho[1])\n",
    "#@constraint(model  e[H] == E_end)                      #1d (xi)  # Delete this constraint for the full horizon problem\n",
    "\n",
    "####### Market Clearing Formulation\n",
    "@objective(model, Max, sum( sum(U[l,t]*d[l,t] for l in L) -  sum(C[g,t]*p[g,t] for g in G) for t in T) )\n",
    "### Subject to\n",
    "@constraint(model, Balance[t in T], sum(d[l,t] for l in L) + b[t] - sum(p[g,t] for g in G) == 0 )  # 2a\n",
    "@constraint(model, Gen[g in G, t in T], 0 <= p[g,t] <= P[g,t])\n",
    "@constraint(model, Load[l in L, t in T], 0 <= d[l,t] <= D[l,t])\n",
    "\n",
    "\n",
    "#************************************************************************\n",
    "# Solve\n",
    "solution = optimize!(model)\n",
    "println(\"Termination status: $(termination_status(model))\")\n",
    "#************************************************************************\n",
    "\n",
    "if termination_status(model) == MOI.OPTIMAL\n",
    "    println(\"Optimal objective value: $(objective_value(model))\")\n",
    "    println(\"Solution:\")\n",
    "    for t in T\n",
    "        println(\"The Market price in t=\", t,\" is λ=\" , dual(Balance[t]))\n",
    "        println(\"Storage level at end of t=\", t, \" is e=\", value(e[t]))\n",
    "    end\n",
    "else\n",
    "    println(\"No optimal solution available\")\n",
    "end\n",
    "\n",
    "\n"
   ]
  },
  {
   "cell_type": "code",
   "execution_count": null,
   "metadata": {},
   "outputs": [],
   "source": []
  },
  {
   "cell_type": "code",
   "execution_count": null,
   "metadata": {},
   "outputs": [],
   "source": []
  },
  {
   "cell_type": "code",
   "execution_count": null,
   "metadata": {},
   "outputs": [],
   "source": []
  },
  {
   "cell_type": "code",
   "execution_count": 71,
   "metadata": {},
   "outputs": [
    {
     "data": {
      "text/plain": [
       "-5.0"
      ]
     },
     "metadata": {},
     "output_type": "display_data"
    }
   ],
   "source": [
    "dual(Balance[1])"
   ]
  },
  {
   "attachments": {},
   "cell_type": "markdown",
   "metadata": {},
   "source": [
    "## The Split-Horizon Problem (future-aware-plus)\n",
    "##### In this problem we use the solution attained in the full-horizon problem in our objective function etc."
   ]
  },
  {
   "cell_type": "code",
   "execution_count": 78,
   "metadata": {},
   "outputs": [
    {
     "ename": "ErrorException",
     "evalue": "syntax: missing comma or ) in argument list",
     "output_type": "error",
     "traceback": [
      "syntax: missing comma or ) in argument list\n",
      "\n",
      "Stacktrace:\n",
      " [1] top-level scope\n",
      "   @ c:\\Users\\jonas\\Documents\\Jonas DTU\\MSc Thesis\\Modelling\\Framework1.ipynb:27"
     ]
    }
   ],
   "source": [
    "# Sets\n",
    "T = 1:2\n",
    "L = 1:1\n",
    "G = 1:2\n",
    "#end of time horizon 1 \n",
    "H = 1\n",
    "# Storage Parameters\n",
    "S = 2.5; \n",
    "E_init = 0;\n",
    "E_end = 1;\n",
    "\n",
    "#Model 😺\n",
    "model = Model(HiGHS.Optimizer)\n",
    "\n",
    "### Variables\n",
    "## Variables Market Clearing\n",
    "@variable(model, b[T] )            # Energy Charged or discharged for t\n",
    "@variable(model, d[L, T] >= 0)   # Demand of load l at t\n",
    "@variable(model, p[G, T] >= 0)   # Production of g at t\n",
    "@variable(model, e[T] >= 0)        # State of Energy at the end of T\n",
    "\n",
    "### Constraints \n",
    "## Storage Constraints (1a-1d)\n",
    "@constraint(model, Stor1_low[t in T], 0 <= e[t] )             #1a (v_low[t])\n",
    "@constraint(model, Stor1_up[t in T],   e[t] <= S)             #1a (v_up[t])\n",
    "@constraint(model, Stor2[t in T;t!=1],   e[t] == e[t-1]+b[t])   #1b (rho[t])\n",
    "@constraint(model, Stor3, e[1] == E_init+b[1])                  #1c (rho[1])\n",
    "@constraint(model  Stor4, e[H] == E_end)                        #1d (xi)  \n",
    "\n",
    "####### Market Clearing Formulation\n",
    "@objective(model, Max, sum( sum(U[l,t]*d[l,t] for l in L) -  sum(C[g,t]*p[g,t] for g in G) for t in T) + e[H]*dual(rho[H])) # 2d \n",
    "### Subject to\n",
    "@constraint(model, Balance[t in T], sum(d[l,t] for l in L) + b[t] - sum(p[g,t] for g in G) == 0 )  # 2b (λ[t])\n",
    "@constraint(model, Gen[g in G, t in T], 0 <= p[g,t] <= P[g,t])                                     # 2c (μ_low[g,t], μ_up[g,t])\n",
    "@constraint(model, Load[l in L, t in T], 0 <= d[l,t] <= D[l,t])                                    # 2d (X_low[g,t], X_up[g,t])\n",
    "\n",
    "\n",
    "#************************************************************************\n",
    "# Solve\n",
    "solution = optimize!(model)\n",
    "println(\"Termination status: $(termination_status(model))\")\n",
    "#************************************************************************\n",
    "if termination_status(model) == MOI.OPTIMAL\n",
    "    println(\"Optimal objective value: $(objective_value(model))\")\n",
    "    println(\"Solution:\")\n",
    "    for t in T\n",
    "        println(\"The Market price in t=\", t,\" is λ=\" , dual(Balance[t]))\n",
    "        println(\"Storage level at end of t=\", t, \" is e=\", value(e[t]))\n",
    "    end\n",
    "else\n",
    "    println(\"No optimal solution available\")\n",
    "end\n",
    "\n",
    "\n",
    "\n"
   ]
  },
  {
   "cell_type": "code",
   "execution_count": null,
   "metadata": {},
   "outputs": [],
   "source": []
  },
  {
   "cell_type": "code",
   "execution_count": null,
   "metadata": {},
   "outputs": [],
   "source": []
  }
 ],
 "metadata": {
  "kernelspec": {
   "display_name": "Julia 1.8.0",
   "language": "julia",
   "name": "julia-1.8"
  },
  "language_info": {
   "file_extension": ".jl",
   "mimetype": "application/julia",
   "name": "julia",
   "version": "1.8.0"
  },
  "orig_nbformat": 4
 },
 "nbformat": 4,
 "nbformat_minor": 2
}
