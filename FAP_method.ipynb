{
 "cells": [
  {
   "attachments": {},
   "cell_type": "markdown",
   "metadata": {},
   "source": [
    "### Storage System Constraints\n",
    "\n",
    "Constraints:                                     Shadow Variables:\n",
    "\n",
    "0 <= e[t]     (for all T in T)                 : (v_low[t])\n",
    "e[t] <= maxS  (for all T in T)                 : v_up[t]\n",
    "e[t] = e[t-1]+b[t] (for all t in T \\ {1})      : (rho[t])\n",
    "e[1] = E_init + b[1]                           : (rho[1])\n",
    "e[T] = E_end                                   : (xi)\n",
    "\n",
    "Stuff that can be left out based on Frolke chapter 5:\n",
    "no networks constraints, therefore we can simply full as a single energy storage system\n",
    "Discharging and charging losses aren't fullled, therefore a single variable suffices (b, which is positive when charging, negative discharging)"
   ]
  },
  {
   "attachments": {},
   "cell_type": "markdown",
   "metadata": {},
   "source": [
    "## FIRST DRAFT OF SPLIT-HORIZON MARKET CLEARING MODEL"
   ]
  },
  {
   "attachments": {},
   "cell_type": "markdown",
   "metadata": {},
   "source": [
    "### Load Packages"
   ]
  },
  {
   "cell_type": "code",
   "execution_count": 2,
   "metadata": {},
   "outputs": [],
   "source": [
    "#import Pkg; Pkg.add(\"CSV\")\n",
    "#import Pkg; Pkg.add(\"DataFrames\")\n",
    "#cd(\"C:\\\\Users\\\\jonas\\\\Documents\\\\Jonas DTU\\\\MSc Thesis\\\\Modelling\")\n",
    "\n",
    "using JuMP\n",
    "using HiGHS\n",
    "using CSV\n",
    "using DataFrames"
   ]
  },
  {
   "attachments": {},
   "cell_type": "markdown",
   "metadata": {},
   "source": [
    "### Load data from excel files and transform into matrix form\n"
   ]
  },
  {
   "cell_type": "code",
   "execution_count": 9,
   "metadata": {},
   "outputs": [
    {
     "data": {
      "text/plain": [
       "2"
      ]
     },
     "metadata": {},
     "output_type": "display_data"
    }
   ],
   "source": [
    "gen_df = CSV.read(\"data_gen.csv\", DataFrame)\n",
    "load_df = CSV.read(\"data_load.csv\", DataFrame)\n",
    "\n",
    "#Creating Maximum Generation matrix\n",
    "P =  Array{Float64}(undef, maximum(gen_df.gen), maximum(gen_df.time))\n",
    "C =  Array{Float64}(undef, maximum(gen_df.gen), maximum(gen_df.time))\n",
    "for i in 1:nrow(gen_df)\n",
    "    P[gen_df.gen[i],gen_df.time[i]] = gen_df.max[i]\n",
    "    C[gen_df.gen[i],gen_df.time[i]] = gen_df.cost[i]\n",
    "end\n",
    "# Now we can acces parameters of generators as: max output = P[g,t],   Cost = C[g,t]\n",
    "\n",
    "#Creating Maximum Consumption matrix\n",
    "D = Array{Float64}(undef, maximum(load_df.load), maximum(load_df.time))\n",
    "U = Array{Float64}(undef, maximum(load_df.load), maximum(load_df.time))\n",
    "for i in 1:nrow(load_df)\n",
    "    D[load_df.load[i],load_df.time[i]] = load_df.max[i]\n",
    "    U[load_df.load[i],load_df.time[i]] = load_df.utility[i]\n",
    "end\n",
    "# Now we can acces parameters of loads as: max consumption = D[g,t],   Utility = U[g,t]\n",
    "\n",
    "#Number of days\n",
    "days = 2\n",
    "#Hours per day\n",
    "hours = 1\n",
    "#Total time\n",
    "time = days*hours\n",
    "\n"
   ]
  },
  {
   "attachments": {},
   "cell_type": "markdown",
   "metadata": {},
   "source": [
    "## The Full Horizon Problem"
   ]
  },
  {
   "cell_type": "code",
   "execution_count": 10,
   "metadata": {},
   "outputs": [
    {
     "name": "stdout",
     "output_type": "stream",
     "text": [
      "Termination status: OPTIMAL\n",
      "Optimal objective value: 27.0\n",
      "Solution:\n",
      "The Market price in t=1 is λ=-5.0\n",
      "Storage level at end of t=1 is e=1.0\n",
      "The Market price in t=2 is λ=-5.0\n",
      "Storage level at end of t=2 is e=0.0\n"
     ]
    }
   ],
   "source": [
    "# Sets\n",
    "T = 1:size(D)[2]\n",
    "L = 1:size(D)[1]\n",
    "G = 1:size(P)[1]\n",
    "\n",
    "# Storage Parameters\n",
    "S = 2.5; \n",
    "E_init = 0;\n",
    "\n",
    "#Model 😺\n",
    "full = Model(HiGHS.Optimizer)\n",
    "set_silent(full)\n",
    "\n",
    "### Variables\n",
    "## Variables Market Clearing\n",
    "@variable(full, b[T] )            # Energy Charged or discharged for t\n",
    "@variable(full, d[L, T] >= 0)   # Demand of load l at t\n",
    "@variable(full, p[G, T] >= 0)   # Production of g at t\n",
    "@variable(full, e[T] >= 0)        # State of Energy at the end of T\n",
    "\n",
    "### Constraints \n",
    "## Storage Constraints (1a-1d)\n",
    "@constraint(full, Stor1[t in T],   0 <= e[t] <= S)          #1a (v_low[t] , v_up[t])\n",
    "@constraint(full, Stor2[t in T;t!=1],   e[t] == e[t-1]+b[t])     #1b (rho[t])\n",
    "@constraint(full, Stor3, e[1] == E_init+b[1])                 #1c (rho[1])\n",
    "\n",
    "####### Market Clearing Formulation\n",
    "@objective(full, Max, sum( sum(U[l,t]*d[l,t] for l in L) -  sum(C[g,t]*p[g,t] for g in G) for t in T) )\n",
    "### Subject to\n",
    "@constraint(full, Balance[t in T], sum(d[l,t] for l in L) + b[t] - sum(p[g,t] for g in G) == 0 )  # 2a\n",
    "@constraint(full, Gen[g in G, t in T], 0 <= p[g,t] <= P[g,t])\n",
    "@constraint(full, Load[l in L, t in T], 0 <= d[l,t] <= D[l,t])\n",
    "\n",
    "\n",
    "#************************************************************************\n",
    "# Solve\n",
    "solution = optimize!(full)\n",
    "println(\"Termination status: $(termination_status(full))\")\n",
    "#************************************************************************\n",
    "\n",
    "if termination_status(full) == MOI.OPTIMAL\n",
    "    println(\"Optimal objective value: $(objective_value(full))\")\n",
    "    println(\"Solution:\")\n",
    "    for t in T\n",
    "        println(\"The Market price in t=\", t,\" is λ=\" , dual(Balance[t]))\n",
    "        println(\"Storage level at end of t=\", t, \" is e=\", value(e[t]))\n",
    "    end\n",
    "else\n",
    "    println(\"No optimal solution available\")\n",
    "end\n",
    "\n",
    "\n"
   ]
  },
  {
   "cell_type": "code",
   "execution_count": 44,
   "metadata": {},
   "outputs": [
    {
     "data": {
      "text/plain": [
       "5.0"
      ]
     },
     "metadata": {},
     "output_type": "display_data"
    }
   ],
   "source": [
    "ρ_full = -dual(Stor2[H+1])\n",
    "ρ_full"
   ]
  },
  {
   "attachments": {},
   "cell_type": "markdown",
   "metadata": {},
   "source": [
    "## The Future-Aware-Plus method (FAP)\n",
    "##### In this problem we use the solution attained in the full-horizon problem in our objective function etc."
   ]
  },
  {
   "cell_type": "code",
   "execution_count": 19,
   "metadata": {},
   "outputs": [
    {
     "name": "stdout",
     "output_type": "stream",
     "text": [
      "Cost of generator 1,2 in t=1: [5.0, 10.0]\n",
      "Utility of load 1 in t=1: 12.0\n",
      "Demand of load 1 in t=1: 0.0\n"
     ]
    }
   ],
   "source": [
    "println(\"Cost of generator 1,2 in t=1: \", C[:,1])\n",
    "println(\"Utility of load 1 in t=1: \", U[1])\n",
    "println(\"Demand of load 1 in t=1: \", D[1])"
   ]
  },
  {
   "attachments": {},
   "cell_type": "markdown",
   "metadata": {},
   "source": [
    "##### Time Horizon 1\n",
    "Since there is no demand in time horizon 1, the only decision that needs to be made is whether the storage should be charged"
   ]
  },
  {
   "cell_type": "code",
   "execution_count": 49,
   "metadata": {},
   "outputs": [
    {
     "name": "stdout",
     "output_type": "stream",
     "text": [
      "Termination status: OPTIMAL\n",
      "Optimal objective value: 0.0\n",
      "Solution:\n",
      "The Market price in t=1 is λ=-5.0\n",
      "Storage level at end of t=1 is e=-0.0\n",
      "Energy charged/discharged=1 is b=-0.0\n",
      "Consumption of con1 in t=1 is d=-0.0\n",
      "Production of gen1 in t=1 is p=0.0\n",
      "Production of gen2 in t=1 is p=0.0\n",
      "value of ρ_FAP1 in t=1 is p=5.0\n",
      "value of v_low in t=1 is p=-0.0\n",
      "value of v_up in t=1 is p=-0.0\n"
     ]
    },
    {
     "data": {
      "text/plain": [
       "-0.0"
      ]
     },
     "metadata": {},
     "output_type": "display_data"
    }
   ],
   "source": [
    "#end of time horizon 1 \n",
    "H = 1\n",
    "# Sets\n",
    "T = 1:H\n",
    "L = 1:1\n",
    "G = 1:2\n",
    "\n",
    "# Storage Parameters\n",
    "S = 2.5; \n",
    "E_init = 0;\n",
    "\n",
    "#Model 😺\n",
    "FAP1 = Model(HiGHS.Optimizer)\n",
    "set_silent(FAP1)\n",
    "\n",
    "### Variables\n",
    "## Variables Market Clearing\n",
    "@variable(FAP1, b[T] )          # Energy Charged or discharged for t\n",
    "@variable(FAP1, d[L, T] >= 0)   # Demand of load l at t\n",
    "@variable(FAP1, p[G, T] >= 0)   # Production of g at t\n",
    "@variable(FAP1, e[T] >= 0)      # State of Energy at the end of T\n",
    "\n",
    "### Constraints \n",
    "## Storage Constraints (1a-1d)\n",
    "@constraint(FAP1, FAP_Stor1_low[t in T], 0 <= e[t] )             #1a (v_low[t])\n",
    "@constraint(FAP1, FAP_Stor1_up[t in T],   e[t] <= S)             #1a (v_up[t])\n",
    "@constraint(FAP1, FAP_Stor2[t in T;t!=1],   e[t] == e[t-1]+b[t])   #1b (rho[t])\n",
    "@constraint(FAP1, FAP_Stor3, e[1] == E_init+b[1])                  #1c (rho[1])                  \n",
    "\n",
    "####### Market Clearing Formulation\n",
    "@objective(FAP1, Max, sum( sum(U[l,t]*d[l,t] for l in L) -  sum(C[g,t]*p[g,t] for g in G) for t in T) + e[H]*ρ_full ) # 2d \n",
    "### Subject to\n",
    "@constraint(FAP1, FAP_Balance[t in T], sum(d[l,t] for l in L) + b[t] - sum(p[g,t] for g in G) == 0 )  # 2b (λ[t])\n",
    "@constraint(FAP1, FAP_Gen[g in G, t in T], 0 <= p[g,t] <= P[g,t])                                     # 2c (μ_low[g,t], μ_up[g,t])\n",
    "@constraint(FAP1, FAP_Load[l in L, t in T], 0 <= d[l,t] <= D[l,t])                                    # 2d (X_low[g,t], X_up[g,t])\n",
    "\n",
    "\n",
    "#************************************************************************\n",
    "# Solve\n",
    "solution = optimize!(FAP1)\n",
    "println(\"Termination status: $(termination_status(FAP1))\")\n",
    "#************************************************************************\n",
    "if termination_status(FAP1) == MOI.OPTIMAL\n",
    "    println(\"Optimal objective value: $(objective_value(FAP1))\")\n",
    "    println(\"Solution:\")\n",
    "    for t in T\n",
    "        println(\"The Market price in t=\", t,\" is λ=\" , dual(FAP_Balance[t]))\n",
    "        println(\"Storage level at end of t=\", t, \" is e=\", value(e[t]))\n",
    "        println(\"Energy charged/discharged=\", t, \" is b=\", value(b[t]))\n",
    "        println(\"Consumption of con1 in t=\", t, \" is d=\", value(d[1,t]))\n",
    "        println(\"Production of gen1 in t=\", t, \" is p=\", value(p[1,t]))\n",
    "        println(\"Production of gen2 in t=\", t, \" is p=\", value(p[2,t]))\n",
    "        println(\"value of ρ_FAP1 in t=\", t, \" is p=\", -dual(FAP_Stor3))\n",
    "        println(\"value of v_low in t=\", t, \" is p=\", -dual(FAP_Stor1_low[H]))\n",
    "        println(\"value of v_up in t=\", t, \" is p=\", -dual(FAP_Stor1_up[H]))\n",
    "    end\n",
    "else\n",
    "    println(\"No optimal solution available\")\n",
    "end\n",
    "\n",
    "### Input for time horizon 2\n",
    "ρ_FAP1 = 5#-dual(FAP_Stor3)\n",
    "v_low = -dual(FAP_Stor1_low[H])\n",
    "v_up = -dual(FAP_Stor1_up[H])\n"
   ]
  },
  {
   "attachments": {},
   "cell_type": "markdown",
   "metadata": {},
   "source": [
    "##### Time Horizon 2"
   ]
  },
  {
   "cell_type": "code",
   "execution_count": 56,
   "metadata": {},
   "outputs": [
    {
     "name": "stdout",
     "output_type": "stream",
     "text": [
      "Termination status: OPTIMAL\n",
      "Optimal objective value: 47.5\n",
      "Solution:\n",
      "The storage level at t=H was: 2.5\n",
      "The Market price in t=2 is λ=-2.0\n",
      "Storage level at end of t=2 is e=0.0\n",
      "Energy charged/discharged in t=2 is b=-2.5\n",
      "Consumption of con1 in t=2 is d=3.0\n",
      "Production of gen1 in t=2 is p=0.5\n",
      "Production of gen2 in t=2 is p=0.0\n"
     ]
    }
   ],
   "source": [
    "\n",
    "# Sets\n",
    "T2 = (H+1):time\n",
    "L = 1:1\n",
    "G = 1:2\n",
    "\n",
    "# Storage Parameters\n",
    "S = 2.5; \n",
    "E_init = 0;\n",
    "\n",
    "#Model 😺\n",
    "FAP2 = Model(HiGHS.Optimizer)\n",
    "set_silent(FAP2)\n",
    "\n",
    "### Variables\n",
    "## Variables Market Clearing\n",
    "@variable(FAP2, b[T2] )          # Energy Charged or discharged for t (Positive when charging)\n",
    "@variable(FAP2, d[L, T2] >= 0)   # Demand of load l at t\n",
    "@variable(FAP2, p[G, T2] >= 0)   # Production of g at t\n",
    "@variable(FAP2, e[H:time] >= 0)  # State of Energy at the end of each t\n",
    "@variable(FAP2, e_H >= 0)        # State of energy at end of time horizon 1\n",
    "\n",
    "### Constraints \n",
    "## Storage Constraints (1a-1d)\n",
    "@constraint(FAP2, FAP_Stor1[t in H:time],   0 <= e[t] <= S)             #1a (v_low[t] , v_up[t])\n",
    "@constraint(FAP2, FAP_Stor2[t in T2;t!=T2[1]],   e[t] == e[t-1]+b[t])   #1b (rho[t])\n",
    "@constraint(FAP2, FAP_Stor3, e[H+1] == e[H]+b[H+1])                  #1c (rho[1])                  \n",
    "\n",
    "####### Market Clearing Formulation\n",
    "@objective(FAP2, Max, sum( sum(U[l,t]*d[l,t] for l in L) -  sum(C[g,t]*p[g,t] for g in G) for t in T2) + e[H]*(ρ_FAP1-v_low-v_up) ) # 2d \n",
    "### Subject to\n",
    "@constraint(FAP2, FAP_Balance[t in T2], sum(d[l,t] for l in L) + b[t] - sum(p[g,t] for g in G) == 0 )  # 2b (λ[t])\n",
    "@constraint(FAP2, FAP_Gen[g in G, t in T2], 0 <= p[g,t] <= P[g,t])                                     # 2c (μ_low[g,t], μ_up[g,t])\n",
    "@constraint(FAP2, FAP_Load[l in L, t in T2], 0 <= d[l,t] <= D[l,t])                                    # 2d (X_low[g,t], X_up[g,t])\n",
    "\n",
    "\n",
    "#************************************************************************\n",
    "# Solve\n",
    "solution = optimize!(FAP2)\n",
    "println(\"Termination status: $(termination_status(FAP2))\")\n",
    "#************************************************************************\n",
    "if termination_status(FAP2) == MOI.OPTIMAL\n",
    "    println(\"Optimal objective value: $(objective_value(FAP2))\")\n",
    "    println(\"Solution:\")\n",
    "    println(\"The storage level at t=H was: \", value(e[H]))\n",
    "    for t in T2\n",
    "        println(\"The Market price in t=\", t,\" is λ=\" , dual(FAP_Balance[t]))\n",
    "        println(\"Storage level at end of t=\", t, \" is e=\", value(e[t]))\n",
    "        println(\"Energy charged/discharged in t=\", t, \" is b=\", value(b[t]))\n",
    "        println(\"Consumption of con1 in t=\", t, \" is d=\", value(d[1,t]))\n",
    "        println(\"Production of gen1 in t=\", t, \" is p=\", value(p[1,t]))\n",
    "        println(\"Production of gen2 in t=\", t, \" is p=\", value(p[2,t]))\n",
    "    end\n",
    "else\n",
    "    println(\"No optimal solution available\")\n",
    "end\n"
   ]
  },
  {
   "cell_type": "code",
   "execution_count": null,
   "metadata": {},
   "outputs": [],
   "source": []
  }
 ],
 "metadata": {
  "kernelspec": {
   "display_name": "Julia 1.8.0",
   "language": "julia",
   "name": "julia-1.8"
  },
  "language_info": {
   "file_extension": ".jl",
   "mimetype": "application/julia",
   "name": "julia",
   "version": "1.8.0"
  },
  "orig_nbformat": 4
 },
 "nbformat": 4,
 "nbformat_minor": 2
}
